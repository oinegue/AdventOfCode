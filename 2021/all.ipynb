{
 "cells": [
  {
   "cell_type": "code",
   "execution_count": null,
   "metadata": {},
   "outputs": [],
   "source": [
    "from pathlib import Path\n",
    "import numpy as np\n",
    "from numpy.lib import stride_tricks\n",
    "from icecream import ic\n",
    "from collections import Counter\n",
    "from parse import search"
   ]
  },
  {
   "cell_type": "code",
   "execution_count": null,
   "metadata": {},
   "outputs": [],
   "source": [
    "# Day 1 / Part 1\n",
    "(np.diff(np.loadtxt(\"day1.txt\"))>0).sum()"
   ]
  },
  {
   "cell_type": "code",
   "execution_count": null,
   "metadata": {},
   "outputs": [],
   "source": [
    "# Day 1 / Part 2\n",
    "a = np.loadtxt(\"day1.txt\")\n",
    "b = stride_tricks.sliding_window_view(a, 3)\n",
    "c = b.sum(axis=1)\n",
    "d = np.diff(c)\n",
    "e = d>0\n",
    "f = e.sum()\n",
    "f"
   ]
  },
  {
   "cell_type": "code",
   "execution_count": null,
   "metadata": {},
   "outputs": [],
   "source": [
    "# Day 2 / Part 1\n",
    "d = np.loadtxt(\"day2.txt\", converters={0: lambda v: {b'forward': 0, b'down': 1, b'up': -1}[v]}, dtype=np.int_)\n",
    "x = (d[d[:,0]==0][:,1]).sum()\n",
    "y = d[d[:,0]!=0].prod(axis=1).sum()\n",
    "x*y"
   ]
  },
  {
   "cell_type": "code",
   "execution_count": null,
   "metadata": {},
   "outputs": [],
   "source": [
    "# Day 2 / Part 2\n",
    "d = np.loadtxt(\"day2.txt\", converters={0: lambda v: {b'forward': 0, b'down': 1, b'up': -1}[v]}, dtype=np.int_)\n",
    "x, y, a = 0, 0, 0\n",
    "for c, v in d:\n",
    "    if c==0:\n",
    "        x, y = x+v, y+a*v\n",
    "    else:\n",
    "        a += c*v\n",
    "x*y"
   ]
  },
  {
   "cell_type": "code",
   "execution_count": null,
   "metadata": {},
   "outputs": [],
   "source": [
    "# Day 3 / Part 1\n",
    "a = np.genfromtxt(\"day3.txt\", delimiter=1, dtype=np.int_)\n",
    "g = np.median(a, axis=0)\n",
    "e = 1-g\n",
    "bv = 1 << np.arange(len(g)-1, -1, -1)\n",
    "(np.sum(g*bv)*np.sum(e*bv)).astype(np.int_)"
   ]
  },
  {
   "cell_type": "code",
   "execution_count": null,
   "metadata": {},
   "outputs": [],
   "source": [
    "# Day 3 / Part 2\n",
    "ogr = np.genfromtxt(\"day3.txt\", delimiter=1, dtype=np.int_)\n",
    "csr = ogr.copy()\n",
    "for i in range(ogr.shape[1]):\n",
    "    if len(ogr) > 1:\n",
    "        ogr = ogr[ogr[:, i] == np.ceil(np.median(ogr[:, i]))]\n",
    "    if len(csr) > 1:\n",
    "        csr = csr[csr[:, i] != np.ceil(np.median(csr[:, i]))]\n",
    "(np.sum(ogr*bv)*np.sum(csr*bv)).astype(np.int_)"
   ]
  },
  {
   "cell_type": "code",
   "execution_count": null,
   "metadata": {},
   "outputs": [],
   "source": [
    "# Day 4 / Part 1\n",
    "draws = np.genfromtxt(\"day4.txt\", delimiter=\",\", max_rows=1, dtype=np.int_)\n",
    "boards = np.genfromtxt(\"day4.txt\", skip_header=2, invalid_raise=False, dtype=np.int_).reshape((-1, 5, 5))\n",
    "for d in draws:\n",
    "    boards[boards==d] = -1\n",
    "    w = np.nonzero(np.min(np.hstack([np.max(boards, axis=1), np.max(boards, axis=2)]), axis=1) == -1)[0]\n",
    "    if len(w) > 0:\n",
    "        print(np.maximum(0, boards[w]).sum() * d)\n",
    "        break"
   ]
  },
  {
   "cell_type": "code",
   "execution_count": null,
   "metadata": {},
   "outputs": [],
   "source": [
    "# Day 4 / Part 2\n",
    "draws = np.genfromtxt(\"day4.txt\", delimiter=\",\", max_rows=1, dtype=np.int_)\n",
    "boards = np.genfromtxt(\"day4.txt\", skip_header=2, invalid_raise=False, dtype=np.int_).reshape((-1, 5, 5))\n",
    "for d in draws:\n",
    "    boards[boards==d] = -1\n",
    "    if len(boards) > 1:\n",
    "        nw = np.nonzero(np.min(np.hstack([np.max(boards, axis=1), np.max(boards, axis=2)]), axis=1) != -1)[0]\n",
    "        boards = boards[nw]    \n",
    "    else:\n",
    "        w = np.nonzero(np.min(np.hstack([np.max(boards, axis=1), np.max(boards, axis=2)]), axis=1) == -1)[0]\n",
    "        if len(w) > 0:\n",
    "            print(np.maximum(0, boards[0]).sum() * d)\n",
    "            break"
   ]
  },
  {
   "cell_type": "code",
   "execution_count": null,
   "metadata": {},
   "outputs": [],
   "source": [
    "# Day 5 / Part 1\n",
    "with open('day5.txt', 'r') as f:\n",
    "    pixels_drawn, overlaps = set(), set()\n",
    "    for x1,y1,x2,y2 in [(r['x1'], r['y1'], r['x2'], r['y2']) for r in [search(\"{x1:d},{y1:d} -> {x2:d},{y2:d}\", l) for l in f.readlines()] if r['x1'] == r['x2'] or r['y1'] == r['y2']]:\n",
    "        n = max(abs(x2-x1),abs(y2-y1))+1\n",
    "        for p in zip(np.linspace(x1,x2,num=n,dtype=np.int_), np.linspace(y1,y2,num=n,dtype=np.int_)):\n",
    "            if p in pixels_drawn:\n",
    "                overlaps.add(p)\n",
    "            pixels_drawn.add(p)\n",
    "len(overlaps)"
   ]
  },
  {
   "cell_type": "code",
   "execution_count": null,
   "metadata": {},
   "outputs": [],
   "source": [
    "# Day 5 / Part 2\n",
    "with open('day5.txt', 'r') as f:\n",
    "    pixels_drawn, overlaps = set(), set()\n",
    "    for x1,y1,x2,y2 in [(r['x1'], r['y1'], r['x2'], r['y2']) for r in [search(\"{x1:d},{y1:d} -> {x2:d},{y2:d}\", l) for l in f.readlines()]]:\n",
    "        n = max(abs(x2-x1),abs(y2-y1))+1\n",
    "        for p in zip(np.linspace(x1,x2,num=n,dtype=np.int_), np.linspace(y1,y2,num=n,dtype=np.int_)):\n",
    "            if p in pixels_drawn:\n",
    "                overlaps.add(p)\n",
    "            pixels_drawn.add(p)\n",
    "len(overlaps)"
   ]
  },
  {
   "cell_type": "code",
   "execution_count": null,
   "metadata": {},
   "outputs": [],
   "source": [
    "# Day 6 / Part 1\n",
    "a, c = np.unique(np.loadtxt(\"day6.txt\", delimiter=\",\", dtype=np.int_), return_counts=True)\n",
    "tt = np.zeros(9, dtype=np.int_)\n",
    "tt[a] = c\n",
    "for _ in range(80):\n",
    "    tt = np.hstack((tt[1:7], tt[0]+tt[7], tt[8], tt[0]))\n",
    "print(sum(tt))"
   ]
  },
  {
   "cell_type": "code",
   "execution_count": null,
   "metadata": {},
   "outputs": [],
   "source": [
    "# Day 6 / Part 2\n",
    "a, c = np.unique(np.loadtxt(\"day6.txt\", delimiter=\",\", dtype=np.int_), return_counts=True)\n",
    "tt = np.zeros(9, dtype=np.int_)\n",
    "tt[a] = c\n",
    "for _ in range(256):\n",
    "    tt = np.hstack((tt[1:7], tt[0]+tt[7], tt[8], tt[0]))\n",
    "print(sum(tt))"
   ]
  },
  {
   "cell_type": "code",
   "execution_count": null,
   "metadata": {},
   "outputs": [],
   "source": [
    "#Day 7 / Part 1\n",
    "d = np.loadtxt(\"day7.txt\", delimiter=\",\", dtype=np.int_)\n",
    "m = np.inf\n",
    "for i in range(d.min(), d.max()+1):\n",
    "    m = min(m, np.sum(np.abs(d-i)))\n",
    "print(m)"
   ]
  },
  {
   "cell_type": "code",
   "execution_count": null,
   "metadata": {},
   "outputs": [],
   "source": [
    "#Day 7 / Part 2\n",
    "d = np.loadtxt(\"day7.txt\", delimiter=\",\", dtype=np.int_)\n",
    "m = np.inf\n",
    "for i in range(d.min(), d.max()+1):\n",
    "    m = min(m, np.sum((np.abs(d-i) * (np.abs(d-i)+1) / 2)))\n",
    "print(int(m))"
   ]
  }
 ],
 "metadata": {
  "interpreter": {
   "hash": "2894f81bcf0234ed88cf05114b0ba2cdf977b83971bec4b996c5bbdeeb5a42bc"
  },
  "kernelspec": {
   "display_name": "Python 3",
   "language": "python",
   "name": "python3"
  },
  "language_info": {
   "codemirror_mode": {
    "name": "ipython",
    "version": 3
   },
   "file_extension": ".py",
   "mimetype": "text/x-python",
   "name": "python",
   "nbconvert_exporter": "python",
   "pygments_lexer": "ipython3",
   "version": "3.7.5"
  }
 },
 "nbformat": 4,
 "nbformat_minor": 4
}
