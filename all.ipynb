{
 "cells": [
  {
   "cell_type": "code",
   "execution_count": null,
   "metadata": {},
   "outputs": [],
   "source": [
    "from pathlib import Path\n",
    "import numpy as np\n",
    "from numpy.lib import stride_tricks"
   ]
  },
  {
   "cell_type": "code",
   "execution_count": null,
   "metadata": {},
   "outputs": [],
   "source": [
    "# Day 1 / Part 1\n",
    "(np.diff(np.loadtxt(\"day1.txt\"))>0).sum()"
   ]
  },
  {
   "cell_type": "code",
   "execution_count": null,
   "metadata": {},
   "outputs": [],
   "source": [
    "# Day 1 / Part 2\n",
    "a = np.loadtxt(\"day1.txt\")\n",
    "b = stride_tricks.sliding_window_view(a, 3)\n",
    "c = b.sum(axis=1)\n",
    "d = np.diff(c)\n",
    "e = d>0\n",
    "f = e.sum()\n",
    "f"
   ]
  },
  {
   "cell_type": "code",
   "execution_count": null,
   "metadata": {},
   "outputs": [],
   "source": [
    "# Day 2 / Part 1\n",
    "d = np.loadtxt(\"day2.txt\", converters={0: lambda v: {b'forward': 0, b'down': 1, b'up': -1}[v]}, dtype=np.int_)\n",
    "x = (d[d[:,0]==0][:,1]).sum()\n",
    "y = d[d[:,0]!=0].prod(axis=1).sum()\n",
    "x*y"
   ]
  },
  {
   "cell_type": "code",
   "execution_count": null,
   "metadata": {},
   "outputs": [],
   "source": [
    "# Day 2 / Part 2\n",
    "d = np.loadtxt(\"day2.txt\", converters={0: lambda v: {b'forward': 0, b'down': 1, b'up': -1}[v]}, dtype=np.int_)\n",
    "x, y, a = 0, 0, 0\n",
    "for c, v in d:\n",
    "    if c==0:\n",
    "        x, y = x+v, y+a*v\n",
    "    else:\n",
    "        a += c*v\n",
    "x*y"
   ]
  },
  {
   "cell_type": "code",
   "execution_count": null,
   "metadata": {},
   "outputs": [],
   "source": [
    "# Day 3 / Part 1\n",
    "a = np.genfromtxt(\"day3.txt\", delimiter=1, dtype=np.int_)\n",
    "g = np.median(a, axis=0)\n",
    "e = 1-g\n",
    "bv = 1 << np.arange(len(g)-1, -1, -1)\n",
    "(np.sum(g*bv)*np.sum(e*bv)).astype(np.int_)"
   ]
  },
  {
   "cell_type": "code",
   "execution_count": null,
   "metadata": {},
   "outputs": [],
   "source": [
    "# Day 3 / Part 2\n",
    "ogr = a.copy()\n",
    "csr = a.copy()\n",
    "for i in range(ogr.shape[1]):\n",
    "    if len(ogr) > 1:\n",
    "        ogr = ogr[ogr[:, i] == np.ceil(np.median(ogr[:, i]))]\n",
    "    if len(csr) > 1:\n",
    "        csr = csr[csr[:, i] != np.ceil(np.median(csr[:, i]))]\n",
    "(np.sum(ogr*bv)*np.sum(csr*bv)).astype(np.int_)"
   ]
  }
 ],
 "metadata": {
  "interpreter": {
   "hash": "2894f81bcf0234ed88cf05114b0ba2cdf977b83971bec4b996c5bbdeeb5a42bc"
  },
  "kernelspec": {
   "display_name": "Python 3.7.5 64-bit ('data-analysis': virtualenv)",
   "name": "python3"
  },
  "language_info": {
   "codemirror_mode": {
    "name": "ipython",
    "version": 3
   },
   "file_extension": ".py",
   "mimetype": "text/x-python",
   "name": "python",
   "nbconvert_exporter": "python",
   "pygments_lexer": "ipython3",
   "version": "3.7.5"
  }
 },
 "nbformat": 4,
 "nbformat_minor": 4
}
